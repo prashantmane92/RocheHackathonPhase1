{
 "cells": [
  {
   "cell_type": "code",
   "execution_count": 3,
   "id": "f77f9b86-a8d8-4186-a4e4-e2b5bc8f0a63",
   "metadata": {},
   "outputs": [
    {
     "name": "stdout",
     "output_type": "stream",
     "text": [
      "1,2,fizz,4,buzz,fizz,7,8,fizz,buzz,11,fizz,13,14,fizzbuzz,16,17,fizz,19,buzz\n"
     ]
    }
   ],
   "source": [
    "import requests\n",
    "\n",
    "# Set the API endpoint URL\n",
    "url = \"http://localhost:5000/api/numbers\"\n",
    "\n",
    "data = {\"int1\": 3,\n",
    "    \"int2\": 5,\n",
    "    \"limit\": 20,\n",
    "    \"str1\": \"fizz\",\n",
    "    \"str2\": \"buzz\"\n",
    "    }\n",
    "\n",
    "response = requests.post(url, data=data)\n",
    "\n",
    "if response.status_code == 200:\n",
    "    print(response.json())\n",
    "else:\n",
    "    print(\"Error:\",response.json()['error'], response.status_code)"
   ]
  },
  {
   "cell_type": "code",
   "execution_count": null,
   "id": "3305b89c-0658-40f6-8441-4314160daece",
   "metadata": {},
   "outputs": [],
   "source": []
  }
 ],
 "metadata": {
  "kernelspec": {
   "display_name": "Python 3 (ipykernel)",
   "language": "python",
   "name": "python3"
  },
  "language_info": {
   "codemirror_mode": {
    "name": "ipython",
    "version": 3
   },
   "file_extension": ".py",
   "mimetype": "text/x-python",
   "name": "python",
   "nbconvert_exporter": "python",
   "pygments_lexer": "ipython3",
   "version": "3.9.18"
  }
 },
 "nbformat": 4,
 "nbformat_minor": 5
}
